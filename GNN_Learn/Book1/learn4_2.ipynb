{
 "cells": [
  {
   "cell_type": "code",
   "execution_count": 1,
   "metadata": {},
   "outputs": [
    {
     "name": "stdout",
     "output_type": "stream",
     "text": [
      "tensor([4.])\n",
      "tensor([4.], requires_grad=True)\n",
      "tensor([4.])\n"
     ]
    }
   ],
   "source": [
    "import torch\n",
    "from torch.autograd import Variable\n",
    "a = torch.FloatTensor([4])\n",
    "print(Variable(a))  # 转化为Variable对象\n",
    "print(Variable(a,requires_grad=True))\n",
    "print(a.data)"
   ]
  },
  {
   "cell_type": "markdown",
   "metadata": {},
   "source": [
    "<font color=pink>在使用Variable对张量进行转化的时候，可以使用requires_grad参数来指定该张量是否需要梯度计算，并且要求张量的数据类型必须是浮点型，Pytorch不支持整型进行梯度运算。  </font>"
   ]
  },
  {
   "cell_type": "code",
   "execution_count": 2,
   "metadata": {},
   "outputs": [
    {
     "name": "stdout",
     "output_type": "stream",
     "text": [
      "False\n",
      "True\n"
     ]
    }
   ],
   "source": [
    "import torch\n",
    "from torch.autograd import Variable\n",
    "x = torch.ones(2,2,requires_grad=True)\n",
    "with torch.no_grad():\n",
    "    y = x * 2\n",
    "print(y.requires_grad)\n",
    "print(x.requires_grad)"
   ]
  },
  {
   "cell_type": "markdown",
   "metadata": {},
   "source": [
    "### 装饰器(Decorators)是 Python 的一个重要部分。简单地说：他们是修改其他函数的功能的函数。他们有助于让我们的代码更简短，也更Pythonic（Python范儿）。"
   ]
  },
  {
   "cell_type": "code",
   "execution_count": 3,
   "metadata": {},
   "outputs": [
    {
     "name": "stdout",
     "output_type": "stream",
     "text": [
      "False\n"
     ]
    }
   ],
   "source": [
    "@torch.no_grad()\n",
    "def doubler(x):\n",
    "    return x * 2\n",
    "z = doubler(x)\n",
    "print(z.requires_grad)"
   ]
  },
  {
   "cell_type": "code",
   "execution_count": 6,
   "metadata": {},
   "outputs": [
    {
     "name": "stdout",
     "output_type": "stream",
     "text": [
      "tensor([[1., 1.],\n",
      "        [1., 1.]], requires_grad=True) None\n",
      "<AddBackward0 object at 0x7feb6c707750>\n",
      "(tensor([[1., 1.],\n",
      "        [1., 1.]], requires_grad=True), None)\n"
     ]
    }
   ],
   "source": [
    "import torch\n",
    "from torch.autograd import variable\n",
    "x = Variable(torch.ones(2,2),requires_grad=True)\n",
    "print(x,x.grad_fn)\n",
    "m = x + 2\n",
    "print(m.grad_fn)\n",
    "print(m.grad_fn(x))"
   ]
  }
 ],
 "metadata": {
  "interpreter": {
   "hash": "ccbbd2c8d6f0454f49f0573ac39ade4c6b7b96387836a6c677c3c96dbd41c676"
  },
  "kernelspec": {
   "display_name": "Python 3.7.12 ('work')",
   "language": "python",
   "name": "python3"
  },
  "language_info": {
   "codemirror_mode": {
    "name": "ipython",
    "version": 3
   },
   "file_extension": ".py",
   "mimetype": "text/x-python",
   "name": "python",
   "nbconvert_exporter": "python",
   "pygments_lexer": "ipython3",
   "version": "3.7.12"
  },
  "orig_nbformat": 4
 },
 "nbformat": 4,
 "nbformat_minor": 2
}
