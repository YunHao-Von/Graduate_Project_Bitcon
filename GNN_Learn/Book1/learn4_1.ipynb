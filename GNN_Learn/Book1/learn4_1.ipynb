{
 "cells": [
  {
   "cell_type": "markdown",
   "metadata": {},
   "source": [
    "### Pytorch中的张量就是元素属同一数据类型的多维矩阵"
   ]
  },
  {
   "cell_type": "markdown",
   "metadata": {},
   "source": [
    "torch.tensor():相对简单，直接把传入的数值原样转化为张量。只支持一个参数，其功能就是将传入的对象转化成为张量。  \n",
    "该函数不但支持python中的原声数据类型，还支持numpy类型。  "
   ]
  },
  {
   "cell_type": "code",
   "execution_count": 12,
   "metadata": {},
   "outputs": [
    {
     "name": "stdout",
     "output_type": "stream",
     "text": [
      "tensor(5)\n",
      "tensor([4])\n"
     ]
    }
   ],
   "source": [
    "import torch\n",
    "import numpy as np\n",
    "a = torch.tensor(5)\n",
    "print(a)\n",
    "anp = np.array([4])\n",
    "a =  torch.tensor(anp)\n",
    "print(a)"
   ]
  },
  {
   "cell_type": "markdown",
   "metadata": {},
   "source": [
    "torch.Tensor()函数也可以直接定义一个张量。在使用此函数定义张量的时候，可以指定张量的形状，也可以指定张量的内容。"
   ]
  },
  {
   "cell_type": "code",
   "execution_count": 13,
   "metadata": {},
   "outputs": [
    {
     "name": "stdout",
     "output_type": "stream",
     "text": [
      "tensor([2.0239e+29, 4.5664e-41])\n",
      "tensor([[2.0239e+29, 4.5664e-41]])\n",
      "tensor([2.])\n",
      "tensor([1., 2.])\n",
      "True\n",
      "2\n"
     ]
    }
   ],
   "source": [
    "import torch\n",
    "a = torch.Tensor(2)\n",
    "print(a)\n",
    "b= torch.Tensor(1,2)\n",
    "print(b)\n",
    "c = torch.Tensor([2])\n",
    "print(c)\n",
    "d = torch.Tensor([1,2])\n",
    "print(d)\n",
    "print(torch.is_tensor(d))\n",
    "print(torch.numel(a))"
   ]
  },
  {
   "cell_type": "code",
   "execution_count": 14,
   "metadata": {},
   "outputs": [
    {
     "name": "stdout",
     "output_type": "stream",
     "text": [
      "torch.float32\n",
      "torch.float32\n"
     ]
    }
   ],
   "source": [
    "import torch\n",
    "print(torch.get_default_dtype())\n",
    "print(torch.Tensor([1,3]).dtype)"
   ]
  },
  {
   "cell_type": "code",
   "execution_count": 15,
   "metadata": {},
   "outputs": [
    {
     "name": "stdout",
     "output_type": "stream",
     "text": [
      "torch.float32\n",
      "tensor([4], dtype=torch.int32)\n",
      "tensor([4.], dtype=torch.float64)\n",
      "torch.float32\n",
      "tensor([4], dtype=torch.int32)\n",
      "tensor([4.], dtype=torch.float64)\n",
      "tensor(4.)\n",
      "tensor([2.])\n"
     ]
    }
   ],
   "source": [
    "import torch\n",
    "a = torch.FloatTensor([4])\n",
    "print(a.dtype)\n",
    "print(a.type(torch.IntTensor))\n",
    "print(a.type(torch.DoubleTensor))\n",
    "print(a.dtype)\n",
    "print(a.int())\n",
    "print(a.double())\n",
    "print(a.mean())\n",
    "print(a.sqrt())"
   ]
  },
  {
   "cell_type": "code",
   "execution_count": 16,
   "metadata": {},
   "outputs": [
    {
     "name": "stdout",
     "output_type": "stream",
     "text": [
      "tensor([1, 1])\n",
      "tensor([2, 2])\n"
     ]
    }
   ],
   "source": [
    "import numpy as np\n",
    "import torch\n",
    "nparray = np.array([1,1])\n",
    "x = torch.from_numpy(nparray)\n",
    "print(x)\n",
    "nparray += 1\n",
    "print(x)"
   ]
  },
  {
   "cell_type": "code",
   "execution_count": 17,
   "metadata": {},
   "outputs": [
    {
     "name": "stdout",
     "output_type": "stream",
     "text": [
      "tensor([1, 1])\n",
      "tensor([1, 1])\n"
     ]
    }
   ],
   "source": [
    "nparray = np.array([1,1])\n",
    "x = torch.from_numpy(nparray)\n",
    "print(x)\n",
    "nparray = nparray + 1\n",
    "print(x)"
   ]
  },
  {
   "cell_type": "code",
   "execution_count": 18,
   "metadata": {},
   "outputs": [
    {
     "name": "stdout",
     "output_type": "stream",
     "text": [
      "tensor([4.], device='cuda:0')\n",
      "tensor([4.])\n",
      "tensor([4.], device='cuda:0')\n"
     ]
    }
   ],
   "source": [
    "import torch\n",
    "a = torch.FloatTensor([4])\n",
    "b = a.cuda()\n",
    "print(b)\n",
    "print(b.cpu())\n",
    "print(b)"
   ]
  },
  {
   "cell_type": "markdown",
   "metadata": {},
   "source": [
    "### 4.5生成随机值张量"
   ]
  },
  {
   "cell_type": "code",
   "execution_count": 19,
   "metadata": {},
   "outputs": [
    {
     "name": "stdout",
     "output_type": "stream",
     "text": [
      "tensor([1, 3, 5, 7, 9])\n",
      "tensor([0, 2, 4, 6, 8])\n",
      "tensor([1., 3., 5., 7., 9.])\n",
      "tensor([1.0000e+01, 1.0000e+03, 1.0000e+05, 1.0000e+07, 1.0000e+09])\n"
     ]
    }
   ],
   "source": [
    "# 4.5.1设置随机值种子\n",
    "torch.initial_seed()\n",
    "torch.manual_seed(2)\n",
    "torch.initial_seed()\n",
    "torch.randn(2,3)\n",
    "print(torch.arange(1,10,step=2))\n",
    "print(torch.arange(0,10,step=2))\n",
    "print(torch.linspace(1,9,steps=5))\n",
    "# 4.5.4生成对数空间的随机值\n",
    "print(torch.logspace(1,9,steps=5))"
   ]
  },
  {
   "cell_type": "markdown",
   "metadata": {},
   "source": [
    "## 4.6张量间的数学运算"
   ]
  },
  {
   "cell_type": "code",
   "execution_count": 20,
   "metadata": {},
   "outputs": [
    {
     "name": "stdout",
     "output_type": "stream",
     "text": [
      "tensor([4.]) tensor([8.])\n",
      "tensor([8.])\n",
      "tensor([8.])\n",
      "tensor([12.])\n"
     ]
    }
   ],
   "source": [
    "import torch\n",
    "a = torch.FloatTensor([4])\n",
    "print(a, a+a)\n",
    "# 4.6.1PyTorch的运算函数\n",
    "b = torch.add(a,a)\n",
    "print(b)\n",
    "torch.add(a,a,out=c)\n",
    "print(c)\n",
    "# 4.6.2PyTorch的自变化运算函数\n",
    "a.add_(*b)  # 相当于a+=b\n",
    "print(a)"
   ]
  },
  {
   "cell_type": "markdown",
   "metadata": {},
   "source": [
    "## 4.7张量间的数据操作"
   ]
  },
  {
   "cell_type": "code",
   "execution_count": 21,
   "metadata": {},
   "outputs": [
    {
     "name": "stdout",
     "output_type": "stream",
     "text": [
      "tensor([[1, 2, 3, 4]])\n",
      "tensor([[1, 2, 3, 4]])\n",
      "tensor([[1, 2, 3, 4]])\n"
     ]
    }
   ],
   "source": [
    "# 4.7.1用reshape函数实现数据维度的变换\n",
    "a = torch.tensor([[1,2],[3,4]])\n",
    "print(torch.reshape(a,(1,-1)))\n",
    "print(a.reshape((1,-1)))\n",
    "print(a.view((1,-1)))"
   ]
  },
  {
   "cell_type": "markdown",
   "metadata": {},
   "source": [
    "在PyTorch中，还可以使用torch.squeeze()对某张量进行压缩（在变形过程中，可以把取值为1的维度去掉）。  \n",
    "squeeze()函数默认在变形过程中，将输入张量中所有取值为1的维度去掉。如果一个张量中取值为1的维度很多，的纳斯又不想全部去掉，那么可以在函数中通过设定dim参数，选择去掉某一个维度（dim参数所制定的维度必须满足取值为1）。  \n"
   ]
  },
  {
   "cell_type": "code",
   "execution_count": 24,
   "metadata": {},
   "outputs": [
    {
     "name": "stdout",
     "output_type": "stream",
     "text": [
      "tensor([[1, 2],\n",
      "        [3, 4],\n",
      "        [5, 6],\n",
      "        [7, 8]])\n",
      "tensor([[1, 2, 5, 6],\n",
      "        [3, 4, 7, 8]])\n",
      "(tensor([[1, 2]]), tensor([[3, 4]]))\n",
      "(tensor([[1],\n",
      "        [3]]), tensor([[2],\n",
      "        [4]]))\n"
     ]
    }
   ],
   "source": [
    "# 4.7.4用cat函数实现数据的连接\n",
    "a = torch.tensor([[1,2],[3,4]])\n",
    "b = torch.tensor([[5,6],[7,8]])\n",
    "print(torch.cat([a,b],dim=0))\n",
    "print(torch.cat([a,b],dim=1))\n",
    "# 4.7.5用chunk函数实现数据的均匀分割\n",
    "a = torch.tensor([[1,2],[3,4]])\n",
    "print(torch.chunk(a,chunks=2,dim=0))\n",
    "print(torch.chunk(a,chunks=2,dim=1))"
   ]
  },
  {
   "cell_type": "code",
   "execution_count": 37,
   "metadata": {},
   "outputs": [
    {
     "name": "stdout",
     "output_type": "stream",
     "text": [
      "tensor([[2, 3],\n",
      "        [5, 6]])\n"
     ]
    }
   ],
   "source": [
    "# 4.7.7用torch.gather()函数对于张量数据进行检索\n",
    "import torch\n",
    "b = torch.tensor([\n",
    "    [1,2,3],\n",
    "    [4,5,6]\n",
    "])\n",
    "print(torch.gather(b,dim=1,index=torch.tensor([[1,2],[1,2]])))"
   ]
  },
  {
   "cell_type": "code",
   "execution_count": 53,
   "metadata": {},
   "outputs": [
    {
     "data": {
      "text/plain": [
       "torch.return_types.max(\n",
       "values=tensor([3, 4]),\n",
       "indices=tensor([0, 1]))"
      ]
     },
     "execution_count": 53,
     "metadata": {},
     "output_type": "execute_result"
    }
   ],
   "source": [
    "a = torch.tensor([[3,1],[2,4]])\n",
    "torch.argmax(a,dim=0)\n",
    "torch.max(a,dim=0)"
   ]
  }
 ],
 "metadata": {
  "interpreter": {
   "hash": "ccbbd2c8d6f0454f49f0573ac39ade4c6b7b96387836a6c677c3c96dbd41c676"
  },
  "kernelspec": {
   "display_name": "Python 3.7.12 ('work')",
   "language": "python",
   "name": "python3"
  },
  "language_info": {
   "codemirror_mode": {
    "name": "ipython",
    "version": 3
   },
   "file_extension": ".py",
   "mimetype": "text/x-python",
   "name": "python",
   "nbconvert_exporter": "python",
   "pygments_lexer": "ipython3",
   "version": "3.7.12"
  },
  "orig_nbformat": 4
 },
 "nbformat": 4,
 "nbformat_minor": 2
}
