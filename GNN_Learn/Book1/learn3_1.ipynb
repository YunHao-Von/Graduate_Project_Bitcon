{
 "cells": [
  {
   "cell_type": "code",
   "execution_count": 1,
   "metadata": {},
   "outputs": [
    {
     "data": {
      "image/png": "[encoded data removed]",
      "text/plain": [
       "<Figure size 432x288 with 1 Axes>"
      ]
     },
     "metadata": {
      "needs_background": "light"
     },
     "output_type": "display_data"
    }
   ],
   "source": [
    "import sklearn.datasets     #引入数据集\n",
    "import torch\n",
    "import numpy as np\n",
    "import matplotlib.pyplot as plt\n",
    "np.random.seed(0)           #设置随机数种子\n",
    "X, Y = sklearn.datasets.make_moons(200,noise=0.2) #生成2组半圆形数据\n",
    "\n",
    "arg = np.squeeze(np.argwhere(Y==0),axis = 1)     #获取第1组数据索引\n",
    "arg2 = np.squeeze(np.argwhere(Y==1),axis = 1)#获取第2组数据索引\n",
    "\n",
    "plt.title(\"moons data\")\n",
    "plt.scatter(X[arg,0], X[arg,1], s=100,c='b',marker='+',label='data1')\n",
    "plt.scatter(X[arg2,0], X[arg2,1],s=40, c='r',marker='o',label='data2')\n",
    "plt.legend()\n",
    "plt.show()"
   ]
  },
  {
   "cell_type": "code",
   "execution_count": 2,
   "metadata": {},
   "outputs": [],
   "source": [
    "def predict(model,x):   #封装支持Numpy的预测接口\n",
    "    x = torch.from_numpy(x).type(torch.FloatTensor)\n",
    "    ans = model.predict(x)\n",
    "    return ans.numpy()\n",
    "\n",
    "def plot_decision_boundary(pred_func,X,Y):#在直角坐标系中可视化模型能力\n",
    "    #计算取值范围\n",
    "    x_min, x_max = X[:, 0].min() - .5, X[:, 0].max() + .5\n",
    "    y_min, y_max = X[:, 1].min() - .5, X[:, 1].max() + .5\n",
    "    h = 0.01\n",
    "    #在坐标系中采用数据，生成网格矩阵，用于输入模型\n",
    "    xx,yy=np.meshgrid(np.arange(x_min, x_max, h), np.arange(y_min, y_max, h))\n",
    "    #将数据输入并进行预测\n",
    "    Z = pred_func(np.c_[xx.ravel(), yy.ravel()])\n",
    "    Z = Z.reshape(xx.shape)\n",
    "    #将预测的结果可视化\n",
    "    plt.contourf(xx, yy, Z, cmap=plt.cm.Spectral)\n",
    "    plt.title(\"Linear predict\")\n",
    "    arg = np.squeeze(np.argwhere(Y==0),axis = 1)\n",
    "    arg2 = np.squeeze(np.argwhere(Y==1),axis = 1)\n",
    "    plt.scatter(X[arg,0], X[arg,1], s=100,c='b',marker='+')\n",
    "    plt.scatter(X[arg2,0], X[arg2,1],s=40, c='r',marker='o')\n",
    "    plt.show()"
   ]
  },
  {
   "cell_type": "code",
   "execution_count": 3,
   "metadata": {},
   "outputs": [],
   "source": [
    "import torch.nn as nn\n",
    "class LogicNet(nn.Module):\n",
    "    def __init__(self,inputdim,hiddendim,outputdim):#初始化网络结构\n",
    "        super(LogicNet,self).__init__()\n",
    "        self.Linear1 = nn.Linear(inputdim,hiddendim) #定义全连接层\n",
    "        self.Linear2 = nn.Linear(hiddendim,outputdim)#定义全连接层\n",
    "        self.criterion = nn.CrossEntropyLoss() #定义交叉熵函数\n",
    "\n",
    "    def forward(self,x): #搭建用两层全连接组成的网络模型\n",
    "        x = self.Linear1(x)#将输入数据传入第1层\n",
    "        x = torch.tanh(x)#对第一层的结果进行非线性变换\n",
    "        x = self.Linear2(x)#再将数据传入第2层\n",
    "#        print(\"LogicNet\")\n",
    "        return x\n",
    "\n",
    "    def predict(self,x):#实现LogicNet类的预测接口\n",
    "        #调用自身网络模型，并对结果进行softmax处理,分别得出预测数据属于每一类的概率\n",
    "        pred = torch.softmax(self.forward(x),dim=1)\n",
    "        return torch.argmax(pred,dim=1)  #返回每组预测概率中最大的索引\n",
    "\n",
    "    def getloss(self,x,y): #实现LogicNet类的损失值计算接口\n",
    "        y_pred = self.forward(x)\n",
    "        loss = self.criterion(y_pred,y)#计算损失值得交叉熵\n",
    "        return loss"
   ]
  },
  {
   "cell_type": "code",
   "execution_count": 4,
   "metadata": {},
   "outputs": [],
   "source": [
    "model = LogicNet(inputdim=2,hiddendim=3,outputdim=2)\n",
    "optimizer = torch.optim.Adam(model.parameters(),lr=0.01)\n",
    "xt = torch.from_numpy(X).type(torch.FloatTensor)#将Numpy数据转化为张量\n",
    "yt = torch.from_numpy(Y).type(torch.LongTensor)\n",
    "epochs = 1000#定义迭代次数\n",
    "losses = []#定义列表，用于接收每一步的损失值\n",
    "for i in range(epochs):\n",
    "    loss = model.getloss(xt,yt)\n",
    "    losses.append(loss.item())\n",
    "    optimizer.zero_grad()#清空之前的梯度\n",
    "    loss.backward()#反向传播损失值\n",
    "    optimizer.step()#更新参数"
   ]
  },
  {
   "cell_type": "code",
   "execution_count": 5,
   "metadata": {},
   "outputs": [],
   "source": [
    "def moving_average(a, w=10):#定义函数计算移动平均损失值\n",
    "    if len(a) < w:\n",
    "        return a[:]\n",
    "    return [val if idx < w else sum(a[(idx-w):idx])/w for idx, val in enumerate(a)]\n",
    "def plot_losses(losses):\n",
    "    avgloss= moving_average(losses) #获得损失值的移动平均值\n",
    "    plt.figure(1)\n",
    "    plt.subplot(211)\n",
    "    plt.plot(range(len(avgloss)), avgloss, 'b--')\n",
    "    plt.xlabel('step number')\n",
    "    plt.ylabel('Training loss')\n",
    "    plt.title('step number vs. Training loss')\n",
    "    plt.show()"
   ]
  },
  {
   "cell_type": "code",
   "execution_count": 6,
   "metadata": {},
   "outputs": [
    {
     "data": {
      "image/png": "[encoded data removed]",
      "text/plain": [
       "<Figure size 432x288 with 1 Axes>"
      ]
     },
     "metadata": {
      "needs_background": "light"
     },
     "output_type": "display_data"
    }
   ],
   "source": [
    "plot_losses(losses)"
   ]
  },
  {
   "cell_type": "code",
   "execution_count": 7,
   "metadata": {},
   "outputs": [
    {
     "name": "stdout",
     "output_type": "stream",
     "text": [
      "0.975\n"
     ]
    }
   ],
   "source": [
    "from sklearn.metrics import accuracy_score\n",
    "print(accuracy_score(model.predict(xt), yt))"
   ]
  },
  {
   "cell_type": "code",
   "execution_count": 8,
   "metadata": {},
   "outputs": [],
   "source": [
    "def predict(model,x):   #封装支持Numpy的预测接口\n",
    "    x = torch.from_numpy(x).type(torch.FloatTensor)\n",
    "    ans = model.predict(x)\n",
    "    return ans.numpy()\n",
    "\n",
    "def plot_decision_boundary(pred_func,X,Y):#在直角坐标系中可视化模型能力\n",
    "    #计算取值范围\n",
    "    x_min, x_max = X[:, 0].min() - .5, X[:, 0].max() + .5\n",
    "    y_min, y_max = X[:, 1].min() - .5, X[:, 1].max() + .5\n",
    "    h = 0.01\n",
    "    #在坐标系中采用数据，生成网格矩阵，用于输入模型\n",
    "    xx,yy=np.meshgrid(np.arange(x_min, x_max, h), np.arange(y_min, y_max, h))\n",
    "    #将数据输入并进行预测\n",
    "    Z = pred_func(np.c_[xx.ravel(), yy.ravel()])\n",
    "    Z = Z.reshape(xx.shape)\n",
    "    #将预测的结果可视化\n",
    "    plt.contourf(xx, yy, Z, cmap=plt.cm.Spectral)\n",
    "    plt.title(\"Linear predict\")\n",
    "    arg = np.squeeze(np.argwhere(Y==0),axis = 1)\n",
    "    arg2 = np.squeeze(np.argwhere(Y==1),axis = 1)\n",
    "    plt.scatter(X[arg,0], X[arg,1], s=100,c='b',marker='+')\n",
    "    plt.scatter(X[arg2,0], X[arg2,1],s=40, c='r',marker='o')\n",
    "    plt.show()"
   ]
  },
  {
   "cell_type": "code",
   "execution_count": 9,
   "metadata": {},
   "outputs": [
    {
     "data": {
      "image/png": "[encoded data removed]",
      "text/plain": [
       "<Figure size 432x288 with 1 Axes>"
      ]
     },
     "metadata": {
      "needs_background": "light"
     },
     "output_type": "display_data"
    }
   ],
   "source": [
    "plot_decision_boundary(lambda x: predict(model, x), xt.numpy(), yt.numpy())"
   ]
  }
 ],
 "metadata": {
  "interpreter": {
   "hash": "ccbbd2c8d6f0454f49f0573ac39ade4c6b7b96387836a6c677c3c96dbd41c676"
  },
  "kernelspec": {
   "display_name": "Python 3.7.12 ('work')",
   "language": "python",
   "name": "python3"
  },
  "language_info": {
   "codemirror_mode": {
    "name": "ipython",
    "version": 3
   },
   "file_extension": ".py",
   "mimetype": "text/x-python",
   "name": "python",
   "nbconvert_exporter": "python",
   "pygments_lexer": "ipython3",
   "version": "3.7.12"
  },
  "orig_nbformat": 4
 },
 "nbformat": 4,
 "nbformat_minor": 2
}
